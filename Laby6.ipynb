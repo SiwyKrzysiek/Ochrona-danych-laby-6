{
 "cells": [
  {
   "cell_type": "markdown",
   "metadata": {
    "ExecuteTime": {
     "end_time": "2019-10-30T10:40:18.784383Z",
     "start_time": "2019-10-30T10:40:18.782453Z"
    }
   },
   "source": [
    "# Laboratorium 6 (RSA) "
   ]
  },
  {
   "cell_type": "markdown",
   "metadata": {
    "ExecuteTime": {
     "end_time": "2019-10-30T17:45:09.776695Z",
     "start_time": "2019-10-30T17:45:09.772497Z"
    }
   },
   "source": [
    "Celem zajęć jest praktyczne zapoznanie się z algortmem szyfrowania asymetrycznego na przykładzie RSA."
   ]
  },
  {
   "cell_type": "markdown",
   "metadata": {},
   "source": [
    "## Przygotowanie środowska"
   ]
  },
  {
   "cell_type": "markdown",
   "metadata": {},
   "source": [
    "### Materiały"
   ]
  },
  {
   "cell_type": "markdown",
   "metadata": {
    "ExecuteTime": {
     "end_time": "2019-11-02T07:29:02.142382Z",
     "start_time": "2019-11-02T07:29:02.138414Z"
    }
   },
   "source": [
    "* [Lista liczb pierwszych](http://compoasso.free.fr/primelistweb/page/prime/liste_online_en.php)\n",
    "* [Jakaś prosta bibliotekg do GUI](https://github.com/epeios-q37/atlas-python)\n",
    "* [Biblioteka do RSA](https://pycryptodome.readthedocs.io/en/latest/src/examples.html#generate-public-key-and-private-key)\n",
    "* [Opis jak działa RSA](https://eduinf.waw.pl/inf/alg/001_search/0067.php#Tworzenie_kluczy_RSA)"
   ]
  },
  {
   "cell_type": "markdown",
   "metadata": {},
   "source": [
    "Biblioteki"
   ]
  },
  {
   "cell_type": "code",
   "execution_count": 28,
   "metadata": {
    "ExecuteTime": {
     "end_time": "2019-11-05T20:11:18.687569Z",
     "start_time": "2019-11-05T20:11:18.684725Z"
    }
   },
   "outputs": [],
   "source": [
    "from typing import *\n",
    "from itertools import *\n",
    "import math\n",
    "from pprint import pprint\n",
    "import random\n",
    "from collections import namedtuple\n",
    "from Crypto.PublicKey import RSA"
   ]
  },
  {
   "cell_type": "markdown",
   "metadata": {},
   "source": [
    "Przydatne funkcje"
   ]
  },
  {
   "cell_type": "code",
   "execution_count": 29,
   "metadata": {
    "ExecuteTime": {
     "end_time": "2019-11-05T20:11:18.976675Z",
     "start_time": "2019-11-05T20:11:18.971688Z"
    }
   },
   "outputs": [
    {
     "data": {
      "text/plain": [
       "[(0, 1, 2), (3, 4, 5), (6, 7, 8), (9, 0, 0)]"
      ]
     },
     "execution_count": 29,
     "metadata": {},
     "output_type": "execute_result"
    }
   ],
   "source": [
    "def grouper(iterable, n, fillvalue=None):\n",
    "    \"\"\"Collect data into fixed-length chunks or blocks\"\"\"\n",
    "    # grouper('ABCDEFG', 3, 'x') --> ABC DEF Gxx\"\n",
    "    args = [iter(iterable)] * n\n",
    "    return zip_longest(*args, fillvalue=fillvalue)\n",
    "\n",
    "\n",
    "list(grouper(range(10), 3, 0))"
   ]
  },
  {
   "cell_type": "code",
   "execution_count": 30,
   "metadata": {
    "ExecuteTime": {
     "end_time": "2019-11-05T20:11:19.097818Z",
     "start_time": "2019-11-05T20:11:19.093002Z"
    }
   },
   "outputs": [
    {
     "data": {
      "text/plain": [
       "102117100105"
      ]
     },
     "execution_count": 30,
     "metadata": {},
     "output_type": "execute_result"
    }
   ],
   "source": [
    "def join_numbers(numbers : Iterable[int]) -> int:\n",
    "    \"\"\"Bijection that maps list of numbers to one big number\"\"\"\n",
    "    return int(''.join(str(n + 100) for n in numbers))\n",
    "    \n",
    "join_numbers([2, 17, 0, 5])"
   ]
  },
  {
   "cell_type": "code",
   "execution_count": 31,
   "metadata": {
    "ExecuteTime": {
     "end_time": "2019-11-05T20:11:19.597437Z",
     "start_time": "2019-11-05T20:11:19.591944Z"
    }
   },
   "outputs": [
    {
     "data": {
      "text/plain": [
       "[2, 17, 0, 5]"
      ]
     },
     "execution_count": 31,
     "metadata": {},
     "output_type": "execute_result"
    }
   ],
   "source": [
    "def separate_numbers(number : int) -> Iterable[int]:\n",
    "    \"\"\"Bijection that one big number to maps list of numbers\"\"\"\n",
    "    number = str(number)\n",
    "    return (int(''.join(n)) - 100 for n in grouper(number, 3))\n",
    "    \n",
    "list(separate_numbers(join_numbers([2, 17, 0, 5])))"
   ]
  },
  {
   "cell_type": "markdown",
   "metadata": {
    "ExecuteTime": {
     "end_time": "2019-10-30T17:45:31.807738Z",
     "start_time": "2019-10-30T17:45:31.805066Z"
    }
   },
   "source": [
    "## Zadania z iSoda"
   ]
  },
  {
   "cell_type": "markdown",
   "metadata": {
    "ExecuteTime": {
     "end_time": "2019-10-30T17:45:51.751107Z",
     "start_time": "2019-10-30T17:45:51.748618Z"
    }
   },
   "source": [
    "### Zadnie 1"
   ]
  },
  {
   "cell_type": "markdown",
   "metadata": {},
   "source": [
    "Napisz funkcje, która będzie przekształcać tekst w **wektor liczb** o określonej długości. Określ ilość znaków, którą chcesz kodować jednocześnie."
   ]
  },
  {
   "cell_type": "code",
   "execution_count": 32,
   "metadata": {
    "ExecuteTime": {
     "end_time": "2019-11-05T20:11:19.934134Z",
     "start_time": "2019-11-05T20:11:19.928391Z"
    }
   },
   "outputs": [
    {
     "data": {
      "text/plain": [
       "[177211206197132199197297230207,\n",
       " 205201209132200297230217203197,\n",
       " 132219205197200211209211297255,\n",
       " 296235132200201215222199222132,\n",
       " 212197200197132200201215222199,\n",
       " 222132212200197200197132200201,\n",
       " 215222199222132212197200197132,\n",
       " 206201215205201210210221100100]"
      ]
     },
     "execution_count": 32,
     "metadata": {},
     "output_type": "execute_result"
    }
   ],
   "source": [
    "def text_to_numbers(text : str, block_size = 10) -> List[int]:\n",
    "    text = text.encode()\n",
    "    fill_value = 0\n",
    "    \n",
    "    return (join_numbers(block) for block in grouper(text, block_size, fill_value))\n",
    "\n",
    "text = 'Moja całkiem długa wiadomość deszcz pada deszcz pdada deszcz pada jesienny'\n",
    "\n",
    "list(text_to_numbers(text))"
   ]
  },
  {
   "cell_type": "markdown",
   "metadata": {},
   "source": [
    "### Zadnie 2"
   ]
  },
  {
   "cell_type": "markdown",
   "metadata": {},
   "source": [
    "Napisz funkcje odwrotną, czyli przekształcającą wektor liczb w tekst."
   ]
  },
  {
   "cell_type": "code",
   "execution_count": 33,
   "metadata": {
    "ExecuteTime": {
     "end_time": "2019-11-05T20:11:20.180603Z",
     "start_time": "2019-11-05T20:11:20.175191Z"
    }
   },
   "outputs": [
    {
     "data": {
      "text/plain": [
       "'Moja całkiem długa wiadomość deszcz pada deszcz pdada deszcz pada jesienny'"
      ]
     },
     "execution_count": 33,
     "metadata": {},
     "output_type": "execute_result"
    }
   ],
   "source": [
    "def numbers_to_text(numbers : Iterable[int]) -> str:\n",
    "    fill_value = 0\n",
    "    \n",
    "    data = chain.from_iterable(map(separate_numbers, numbers))\n",
    "    data = takewhile(lambda n: n != fill_value, data) # Trim padding\n",
    "    \n",
    "    return bytes(data).decode()\n",
    "\n",
    "number_vector = text_to_numbers(text, 20)\n",
    "\n",
    "numbers_to_text(number_vector)"
   ]
  },
  {
   "cell_type": "markdown",
   "metadata": {},
   "source": [
    "### Zadanie 3"
   ]
  },
  {
   "cell_type": "markdown",
   "metadata": {},
   "source": [
    "Zaimplementuj prosty test pierwszości dla liczby (np. sito Erastotenesa, test Fermata)."
   ]
  },
  {
   "cell_type": "code",
   "execution_count": 34,
   "metadata": {
    "ExecuteTime": {
     "end_time": "2019-11-05T20:11:20.427484Z",
     "start_time": "2019-11-05T20:11:20.424600Z"
    }
   },
   "outputs": [],
   "source": [
    "# Primes\n",
    "2063\n",
    "10691\n",
    "274090011823\n",
    "\n",
    "test_prime = 10691\n",
    "big_test_prime = 274090011823"
   ]
  },
  {
   "cell_type": "markdown",
   "metadata": {
    "ExecuteTime": {
     "end_time": "2019-11-01T07:57:06.421786Z",
     "start_time": "2019-11-01T07:57:06.419226Z"
    }
   },
   "source": [
    "#### Test Fermata"
   ]
  },
  {
   "cell_type": "markdown",
   "metadata": {
    "ExecuteTime": {
     "end_time": "2019-11-01T07:58:06.624986Z",
     "start_time": "2019-11-01T07:58:06.622893Z"
    }
   },
   "source": [
    "##### Teoria"
   ]
  },
  {
   "cell_type": "markdown",
   "metadata": {
    "ExecuteTime": {
     "end_time": "2019-11-01T08:00:02.806274Z",
     "start_time": "2019-11-01T08:00:02.802021Z"
    }
   },
   "source": [
    "Małe twierdzenie Fermata mówi, że jeśli **p** jest liczbą pierwszą i **a** nie dzieli się przez **p**, to  \n",
    "\n",
    "\\begin{equation}\n",
    "a^{p-1} \\equiv{} 1 \\ \\mathrm{mod}\\ p\n",
    "\\end{equation}\n",
    "\n",
    "Aby stwierdzić, czy **p** jest pierwsza, można wybrać kilka losowych wartości a względnie pierwszych z **p** i sprawdzić, czy ta równość jest dla nich spełniona. Jeśli dla którejkolwiek z nich nie jest, to na pewno **p** jest liczbą złożoną. Jeśli wszystkie ją spełniają, **p** jest prawdopodobnie liczbą pierwszą albo pseudopierwszą"
   ]
  },
  {
   "cell_type": "markdown",
   "metadata": {
    "ExecuteTime": {
     "end_time": "2019-11-01T09:05:30.074030Z",
     "start_time": "2019-11-01T09:05:30.071284Z"
    }
   },
   "source": [
    "##### Słabe"
   ]
  },
  {
   "cell_type": "code",
   "execution_count": 38,
   "metadata": {
    "ExecuteTime": {
     "end_time": "2019-11-05T20:11:44.816847Z",
     "start_time": "2019-11-05T20:11:44.689431Z"
    }
   },
   "outputs": [
    {
     "data": {
      "text/plain": [
       "True"
      ]
     },
     "execution_count": 38,
     "metadata": {},
     "output_type": "execute_result"
    }
   ],
   "source": [
    "# With ** operator\n",
    "\n",
    "def fermat_test_bad(number : int, tries = 100):\n",
    "    assert(tries > 0)\n",
    "    assert(number > 2)\n",
    "    \n",
    "    for _ in range(tries):\n",
    "        a = random.randint(2, number - 1)\n",
    "        if a ** (number-1) % number != 1:\n",
    "            return False\n",
    "        \n",
    "    return True\n",
    "\n",
    "fermat_test_bad(test_prime)"
   ]
  },
  {
   "cell_type": "code",
   "execution_count": 36,
   "metadata": {
    "ExecuteTime": {
     "end_time": "2019-11-05T20:11:30.433151Z",
     "start_time": "2019-11-05T20:11:20.960905Z"
    },
    "deletable": false,
    "editable": false,
    "run_control": {
     "frozen": true
    }
   },
   "outputs": [
    {
     "name": "stdout",
     "output_type": "stream",
     "text": [
      "117 ms ± 1.57 ms per loop (mean ± std. dev. of 7 runs, 10 loops each)\n"
     ]
    }
   ],
   "source": [
    "%%timeit\n",
    "fermat_test_bad(test_prime)"
   ]
  },
  {
   "cell_type": "code",
   "execution_count": 84,
   "metadata": {
    "ExecuteTime": {
     "end_time": "2019-11-01T10:23:24.545609Z",
     "start_time": "2019-11-01T10:23:19.567801Z"
    },
    "deletable": false,
    "editable": false,
    "run_control": {
     "frozen": true
    }
   },
   "outputs": [
    {
     "name": "stdout",
     "output_type": "stream",
     "text": [
      "6.1 ns ± 0.24 ns per loop (mean ± std. dev. of 7 runs, 100000000 loops each)\n"
     ]
    }
   ],
   "source": [
    "%%timeit\n",
    "pass\n",
    "# fermat_test_bad(big_test_prime)"
   ]
  },
  {
   "cell_type": "markdown",
   "metadata": {
    "ExecuteTime": {
     "end_time": "2019-11-01T09:05:53.674872Z",
     "start_time": "2019-11-01T09:05:53.672589Z"
    }
   },
   "source": [
    "##### Ok"
   ]
  },
  {
   "cell_type": "code",
   "execution_count": 41,
   "metadata": {
    "ExecuteTime": {
     "end_time": "2019-11-05T20:12:05.512356Z",
     "start_time": "2019-11-05T20:12:05.505993Z"
    }
   },
   "outputs": [
    {
     "data": {
      "text/plain": [
       "True"
      ]
     },
     "execution_count": 41,
     "metadata": {},
     "output_type": "execute_result"
    }
   ],
   "source": [
    "# With buildin.pow\n",
    "\n",
    "def fermat_test(number : int, tries = 100) -> bool:\n",
    "    \"\"\"Iterative Fermat test\"\"\"\n",
    "    assert(tries > 0)\n",
    "    if number % 2 == 0: return False\n",
    "    assert(number > 2)\n",
    "    \n",
    "    p = number\n",
    "    for _ in range(tries):\n",
    "        a = random.randint(2, number - 1)\n",
    "        if pow(a, p-1, p) != 1:\n",
    "            return False\n",
    "        \n",
    "    return True\n",
    "\n",
    "fermat_test(test_prime)\n",
    "# print(fermat_test.__doc__)"
   ]
  },
  {
   "cell_type": "code",
   "execution_count": 42,
   "metadata": {
    "ExecuteTime": {
     "end_time": "2019-11-05T20:12:21.089665Z",
     "start_time": "2019-11-05T20:12:06.069195Z"
    },
    "deletable": false,
    "editable": false,
    "run_control": {
     "frozen": true
    }
   },
   "outputs": [
    {
     "name": "stdout",
     "output_type": "stream",
     "text": [
      "185 µs ± 9.57 µs per loop (mean ± std. dev. of 7 runs, 10000 loops each)\n"
     ]
    }
   ],
   "source": [
    "%%timeit\n",
    "fermat_test(test_prime)"
   ]
  },
  {
   "cell_type": "code",
   "execution_count": 43,
   "metadata": {
    "ExecuteTime": {
     "end_time": "2019-11-05T20:12:41.493446Z",
     "start_time": "2019-11-05T20:12:35.081266Z"
    },
    "deletable": false,
    "editable": false,
    "run_control": {
     "frozen": true
    }
   },
   "outputs": [
    {
     "name": "stdout",
     "output_type": "stream",
     "text": [
      "787 µs ± 15.9 µs per loop (mean ± std. dev. of 7 runs, 1000 loops each)\n"
     ]
    }
   ],
   "source": [
    "%%timeit\n",
    "fermat_test(big_test_prime)"
   ]
  },
  {
   "cell_type": "code",
   "execution_count": 46,
   "metadata": {
    "ExecuteTime": {
     "end_time": "2019-11-05T20:13:17.839803Z",
     "start_time": "2019-11-05T20:13:17.831807Z"
    }
   },
   "outputs": [
    {
     "name": "stdout",
     "output_type": "stream",
     "text": [
      "Functional Fermat test\n"
     ]
    },
    {
     "data": {
      "text/plain": [
       "False"
      ]
     },
     "execution_count": 46,
     "metadata": {},
     "output_type": "execute_result"
    }
   ],
   "source": [
    "# Functional\n",
    "\n",
    "def fermat_test(number : int, tries = 100):\n",
    "    \"\"\"Functional Fermat test\"\"\"\n",
    "    assert(tries > 0)\n",
    "    if number == 2: return True\n",
    "    if number % 2 == 0: return False\n",
    "    assert(number > 2)\n",
    "    \n",
    "    p = number\n",
    "    stuff = (pow(random.randint(2, number - 1), p-1, p) != 1 for _ in range(tries))\n",
    "    \n",
    "    result = list(takewhile(lambda x: x == False, stuff))\n",
    "    return len(result) == tries\n",
    "\n",
    "# fermat_test(2 ** 40 - 1)\n",
    "print(fermat_test.__doc__)\n",
    "fermat_test(test_prime - 1)"
   ]
  },
  {
   "cell_type": "code",
   "execution_count": 45,
   "metadata": {
    "ExecuteTime": {
     "end_time": "2019-11-05T20:13:06.959260Z",
     "start_time": "2019-11-05T20:12:50.473434Z"
    },
    "deletable": false,
    "editable": false,
    "run_control": {
     "frozen": true
    }
   },
   "outputs": [
    {
     "name": "stdout",
     "output_type": "stream",
     "text": [
      "204 µs ± 4.82 µs per loop (mean ± std. dev. of 7 runs, 10000 loops each)\n"
     ]
    }
   ],
   "source": [
    "%%timeit\n",
    "fermat_test(test_prime)"
   ]
  },
  {
   "cell_type": "code",
   "execution_count": 47,
   "metadata": {
    "ExecuteTime": {
     "end_time": "2019-11-05T20:13:30.170548Z",
     "start_time": "2019-11-05T20:13:23.611914Z"
    },
    "deletable": false,
    "editable": false,
    "run_control": {
     "frozen": true
    }
   },
   "outputs": [
    {
     "name": "stdout",
     "output_type": "stream",
     "text": [
      "805 µs ± 27.6 µs per loop (mean ± std. dev. of 7 runs, 1000 loops each)\n"
     ]
    }
   ],
   "source": [
    "%%timeit\n",
    "fermat_test(big_test_prime)"
   ]
  },
  {
   "cell_type": "markdown",
   "metadata": {
    "ExecuteTime": {
     "end_time": "2019-11-01T09:16:25.560697Z",
     "start_time": "2019-11-01T09:16:25.558322Z"
    }
   },
   "source": [
    "#### Sprawdzanie dzielników"
   ]
  },
  {
   "cell_type": "code",
   "execution_count": 48,
   "metadata": {
    "ExecuteTime": {
     "end_time": "2019-11-05T20:13:46.089254Z",
     "start_time": "2019-11-05T20:13:46.084070Z"
    }
   },
   "outputs": [
    {
     "data": {
      "text/plain": [
       "False"
      ]
     },
     "execution_count": 48,
     "metadata": {},
     "output_type": "execute_result"
    }
   ],
   "source": [
    "def naive_primity_test(number : int) -> bool:\n",
    "    if number <= 1: return False\n",
    "    if number == 2: return True\n",
    "    if number % 2 == 0: return False\n",
    "    \n",
    "    for i in range(3, math.floor(math.sqrt(number)) + 1, 2):\n",
    "        if number % i == 0:\n",
    "            return False\n",
    "        \n",
    "    return True\n",
    "\n",
    "naive_primity_test(21)"
   ]
  },
  {
   "cell_type": "code",
   "execution_count": 49,
   "metadata": {
    "ExecuteTime": {
     "end_time": "2019-11-05T20:13:48.638594Z",
     "start_time": "2019-11-05T20:13:46.825648Z"
    },
    "deletable": false,
    "editable": false,
    "run_control": {
     "frozen": true
    }
   },
   "outputs": [
    {
     "name": "stdout",
     "output_type": "stream",
     "text": [
      "2.22 µs ± 160 ns per loop (mean ± std. dev. of 7 runs, 100000 loops each)\n"
     ]
    }
   ],
   "source": [
    "%%timeit\n",
    "naive_primity_test(test_prime)"
   ]
  },
  {
   "cell_type": "code",
   "execution_count": 50,
   "metadata": {
    "ExecuteTime": {
     "end_time": "2019-11-05T20:13:55.446676Z",
     "start_time": "2019-11-05T20:13:53.708646Z"
    },
    "deletable": false,
    "editable": false,
    "run_control": {
     "frozen": true
    }
   },
   "outputs": [
    {
     "name": "stdout",
     "output_type": "stream",
     "text": [
      "21.4 ms ± 1.35 ms per loop (mean ± std. dev. of 7 runs, 10 loops each)\n"
     ]
    }
   ],
   "source": [
    "%%timeit\n",
    "naive_primity_test(big_test_prime)"
   ]
  },
  {
   "cell_type": "markdown",
   "metadata": {},
   "source": [
    "### Zadanie 4"
   ]
  },
  {
   "cell_type": "markdown",
   "metadata": {},
   "source": [
    "Zaimplementuj algorytm Euklidesa do sprawdzenia największego wspólnego dzielnika."
   ]
  },
  {
   "cell_type": "code",
   "execution_count": 51,
   "metadata": {
    "ExecuteTime": {
     "end_time": "2019-11-05T20:14:07.582218Z",
     "start_time": "2019-11-05T20:14:07.578967Z"
    }
   },
   "outputs": [],
   "source": [
    "def greatest_common_divisor(a : int, b : int) -> int:\n",
    "    \"\"\"GCD using Euclidean algorythm\"\"\"\n",
    "    if a < b: a, b = b, a\n",
    "    \n",
    "    while b:\n",
    "        a, b = b, a%b\n",
    "    return a"
   ]
  },
  {
   "cell_type": "code",
   "execution_count": 52,
   "metadata": {
    "ExecuteTime": {
     "end_time": "2019-11-05T20:14:27.573678Z",
     "start_time": "2019-11-05T20:14:27.570617Z"
    }
   },
   "outputs": [
    {
     "name": "stdout",
     "output_type": "stream",
     "text": [
      "6\n",
      "6\n"
     ]
    }
   ],
   "source": [
    "print(greatest_common_divisor(282, 78))\n",
    "print(greatest_common_divisor(78, 282))"
   ]
  },
  {
   "cell_type": "markdown",
   "metadata": {
    "ExecuteTime": {
     "end_time": "2019-11-01T11:18:21.148638Z",
     "start_time": "2019-11-01T11:18:21.145729Z"
    }
   },
   "source": [
    "### Zadanie 5"
   ]
  },
  {
   "cell_type": "markdown",
   "metadata": {},
   "source": [
    "Napisz funkcję wykorzystającą algorytm Euklidesa do sprawdzenia czy liczby są względnie pierwsze."
   ]
  },
  {
   "cell_type": "code",
   "execution_count": 53,
   "metadata": {
    "ExecuteTime": {
     "end_time": "2019-11-05T20:14:36.405784Z",
     "start_time": "2019-11-05T20:14:36.402373Z"
    }
   },
   "outputs": [],
   "source": [
    "def are_semi_prime(a : int, b : int) -> bool:\n",
    "    return greatest_common_divisor(a, b) == 1"
   ]
  },
  {
   "cell_type": "code",
   "execution_count": 54,
   "metadata": {
    "ExecuteTime": {
     "end_time": "2019-11-05T20:14:37.257565Z",
     "start_time": "2019-11-05T20:14:37.254267Z"
    }
   },
   "outputs": [
    {
     "name": "stdout",
     "output_type": "stream",
     "text": [
      "False\n",
      "True\n"
     ]
    }
   ],
   "source": [
    "print(are_semi_prime(14, 7))\n",
    "print(are_semi_prime(21, 10))"
   ]
  },
  {
   "cell_type": "markdown",
   "metadata": {},
   "source": [
    "### Zadanie 6"
   ]
  },
  {
   "cell_type": "markdown",
   "metadata": {},
   "source": [
    "Napisz funkcję wykorzystającą algorytm Euklidesa do obliczenia liczby odwrotnej modulo."
   ]
  },
  {
   "cell_type": "code",
   "execution_count": 55,
   "metadata": {
    "ExecuteTime": {
     "end_time": "2019-11-05T20:14:42.310335Z",
     "start_time": "2019-11-05T20:14:42.302538Z"
    }
   },
   "outputs": [
    {
     "data": {
      "text/plain": [
       "38"
      ]
     },
     "execution_count": 55,
     "metadata": {},
     "output_type": "execute_result"
    }
   ],
   "source": [
    "def egcd(a : int, b : int) -> Tuple[int, int, int]:\n",
    "    if a == 0:\n",
    "        return (b, 0, 1)\n",
    "    else:\n",
    "        g, y, x = egcd(b % a, a)\n",
    "        return (g, x - (b // a) * y, y)\n",
    "    \n",
    "def modinv(number : int, modulo : int) -> int:\n",
    "    g, x, y = egcd(number, modulo)\n",
    "    \n",
    "    if g != 1:\n",
    "        raise Exception('modular inverse does not exist')\n",
    "    else:\n",
    "        return x % modulo\n",
    "    \n",
    "modinv(17, 43)"
   ]
  },
  {
   "cell_type": "markdown",
   "metadata": {
    "ExecuteTime": {
     "end_time": "2019-11-01T11:59:55.009639Z",
     "start_time": "2019-11-01T11:59:55.007481Z"
    }
   },
   "source": [
    "### Zadanie 7"
   ]
  },
  {
   "cell_type": "markdown",
   "metadata": {},
   "source": [
    "Zaimplementuj algorytm szybkiego potęgowania w artmetyce modularnej."
   ]
  },
  {
   "cell_type": "code",
   "execution_count": 57,
   "metadata": {
    "ExecuteTime": {
     "end_time": "2019-11-05T20:17:56.037189Z",
     "start_time": "2019-11-05T20:17:56.031302Z"
    }
   },
   "outputs": [
    {
     "name": "stdout",
     "output_type": "stream",
     "text": [
      "6\n",
      "6\n"
     ]
    }
   ],
   "source": [
    "def power(number : int, power: int, modulo : int) -> int: \n",
    "    number %= modulo\n",
    "    result = 1\n",
    "  \n",
    "    while (power): \n",
    "        if ((power & 1) == 1): # Quicly chceck if it's odd\n",
    "            result = (result * number) % modulo\n",
    "            power -= 1\n",
    "        else:\n",
    "            # Speedup trick\n",
    "            power //= 2 \n",
    "            number = (number ** 2) % modulo\n",
    "          \n",
    "    return result\n",
    "\n",
    "print(power(2, 5, 13))\n",
    "print(pow(2, 5, 13))"
   ]
  },
  {
   "cell_type": "markdown",
   "metadata": {},
   "source": [
    "### Zadanie 8"
   ]
  },
  {
   "cell_type": "markdown",
   "metadata": {},
   "source": [
    "Napisz pełny program generujący klucze RSA."
   ]
  },
  {
   "cell_type": "code",
   "execution_count": 59,
   "metadata": {
    "ExecuteTime": {
     "end_time": "2019-11-05T20:18:06.634702Z",
     "start_time": "2019-11-05T20:18:06.630172Z"
    }
   },
   "outputs": [],
   "source": [
    "# TODO: Prime generation - maby load from file?\n",
    "def get_primes() -> Tuple[int, int]:\n",
    "    \"\"\"Returns pair of prime numbers for RSA kyes\"\"\"\n",
    "    p = 409\n",
    "    q = 1747\n",
    "    \n",
    "    return p, q\n",
    "\n",
    "def find_semi_prime(number : int) -> int:\n",
    "    \"\"\"Return r such that GCD(number, r) == 1 and r % 2 == 1\"\"\"\n",
    "    tmp = number - (not (number & 1)) - 2\n",
    "    for i in range(tmp, 2, -2):\n",
    "        if are_semi_prime(i, number):\n",
    "            return i\n",
    "        \n",
    "    raise ValueError(f'Unable to find semiprime to {number}')"
   ]
  },
  {
   "cell_type": "code",
   "execution_count": 60,
   "metadata": {
    "ExecuteTime": {
     "end_time": "2019-11-05T20:18:09.887283Z",
     "start_time": "2019-11-05T20:18:09.880794Z"
    }
   },
   "outputs": [
    {
     "data": {
      "text/plain": [
       "RSAKeyPair(public_key=Key(exponent=714521, mod=714523), private_key=Key(exponent=409289, mod=714523))"
      ]
     },
     "execution_count": 60,
     "metadata": {},
     "output_type": "execute_result"
    }
   ],
   "source": [
    "Key = namedtuple('Key', ['exponent', 'mod'])\n",
    "\n",
    "def create_RSA_keys() -> NamedTuple:\n",
    "    p, q = get_primes()\n",
    "    fi = (p - 1) * (q - 1)\n",
    "    n = p * q\n",
    "    e = find_semi_prime(n)\n",
    "    d = modinv(e, fi)\n",
    "    \n",
    "    public_key = Key(e, n)\n",
    "    private_key = Key(d, n)\n",
    "    \n",
    "    return namedtuple('RSAKeyPair', ['public_key', 'private_key'])(public_key, private_key)\n",
    "\n",
    "create_RSA_keys()"
   ]
  },
  {
   "cell_type": "markdown",
   "metadata": {},
   "source": [
    "### Zadanie 9"
   ]
  },
  {
   "cell_type": "markdown",
   "metadata": {},
   "source": [
    "Napis program realizujący szyfrowanie RSA"
   ]
  },
  {
   "cell_type": "markdown",
   "metadata": {},
   "source": [
    "Testowanie działania"
   ]
  },
  {
   "cell_type": "code",
   "execution_count": 63,
   "metadata": {
    "ExecuteTime": {
     "end_time": "2019-11-05T20:30:19.930874Z",
     "start_time": "2019-11-05T20:30:19.925850Z"
    }
   },
   "outputs": [
    {
     "name": "stdout",
     "output_type": "stream",
     "text": [
      "RSAKeyPair(public_key=Key(exponent=714521, mod=714523), private_key=Key(exponent=409289, mod=714523))\n",
      "To encrypt: 123\n",
      "Encrypted: 386934\n",
      "Decrypted: 123\n"
     ]
    }
   ],
   "source": [
    "keys = create_RSA_keys()\n",
    "print(keys)\n",
    "\n",
    "to_encrypt = 123\n",
    "print('To encrypt:', to_encrypt)\n",
    "\n",
    "encrypted = pow(to_encrypt, *keys.public_key)\n",
    "print('Encrypted:', encrypted)\n",
    "\n",
    "decrypted = pow(encrypted, *keys.private_key)\n",
    "print('Decrypted:', decrypted)"
   ]
  },
  {
   "cell_type": "code",
   "execution_count": 68,
   "metadata": {
    "ExecuteTime": {
     "end_time": "2019-11-05T20:32:08.185514Z",
     "start_time": "2019-11-05T20:32:08.181355Z"
    }
   },
   "outputs": [],
   "source": [
    "def RSA_encrypt(text : str, key : Key) -> Iterable[int]:\n",
    "    encoded = text_to_numbers(text, 2) # For bigger block size take bigger primes\n",
    "    return (pow(block, *key) for block in encoded)\n",
    "\n",
    "def RSA_decrypt(data : Iterable[int], key : Key) -> str:\n",
    "    decrypted = (pow(block, *key) for block in data)\n",
    "    return numbers_to_text(decrypted)"
   ]
  },
  {
   "cell_type": "code",
   "execution_count": 69,
   "metadata": {
    "ExecuteTime": {
     "end_time": "2019-11-05T20:32:08.764981Z",
     "start_time": "2019-11-05T20:32:08.760096Z"
    }
   },
   "outputs": [
    {
     "name": "stdout",
     "output_type": "stream",
     "text": [
      "[59655, 568406, 291408, 63232, 69087, 609593, 8773, 64661, 505083, 430247, 75859, 22769, 538402, 198288, 316447, 126644, 264709, 664709, 409603, 298472, 386228, 101749, 264709, 664709, 409603, 298472, 582925, 510748, 122959, 263275, 493373, 437331, 469752, 510748, 122959, 622837, 283337, 433269, 662102]\n",
      "Moja całkiem długa wiadomość deszcz pada deszcz pdada deszcz pada jesienny\n"
     ]
    }
   ],
   "source": [
    "text = 'Moja całkiem długa wiadomość deszcz pada deszcz pdada deszcz pada jesienny'\n",
    "keys = create_RSA_keys()\n",
    "\n",
    "encrypted = list(RSA_encrypt(text, keys.public_key))\n",
    "print(encrypted)\n",
    "\n",
    "decrypted = RSA_decrypt(encrypted, keys.private_key)\n",
    "print(decrypted)"
   ]
  },
  {
   "cell_type": "markdown",
   "metadata": {},
   "source": [
    "### Zadanie 10"
   ]
  },
  {
   "cell_type": "markdown",
   "metadata": {},
   "source": [
    "Napisz program korzystający z PyCrypto do szyfrowania plików. Zaproponuj metodę ochrony klucza prywatnego."
   ]
  },
  {
   "cell_type": "markdown",
   "metadata": {},
   "source": [
    "Do ochrony klucza prywatnego można wykożystać kryptografię symetryczną"
   ]
  },
  {
   "cell_type": "code",
   "execution_count": 90,
   "metadata": {
    "ExecuteTime": {
     "end_time": "2019-11-05T20:47:33.795171Z",
     "start_time": "2019-11-05T20:47:33.212550Z"
    }
   },
   "outputs": [
    {
     "name": "stdout",
     "output_type": "stream",
     "text": [
      "Dane do zaszyfrowania:\n",
      "AES (Advanced Encryption Standard) is a symmetric block cipher standardized by NIST . It has a fixed data block size of 16 bytes. Its keys can be 128, 192, or 256 bits long.\n",
      "\n",
      "AES is very fast and secure, and it is the de facto standard for symmetric encryption.\n",
      "\n",
      "As an example, encryption can be done as follows:\n",
      "\n",
      "Fragment szyfrogramu:\n",
      "[18306445146818202277665770039620598066360008518341468223305693688972437052089785867877342394267044375918146780807824483542386918637592687147948635775954445827806316611334992989252369334620111584805057269801205369338053489649400247439667557812426939979102127247177909382337426519527252182373601624471141997662956791512526078488719365758547039990844212678324811540296148471735292986104496349897812286831502315498594123860536581323559269707927842188137768991960354109379599150494965938568178235850315781236113897116628297443189485953833042800670238156246952225425833934439370988788818894062420924071662661752069380682988,\n",
      " 10976047301762390573783031440094165504271912171850588077700670070745361913345762728620477966696854351148888399901785732191698633209416479043613145566146977562668931311481716255448273051483842512420879052215299946875577864901736195145379674256251977866450951476539525556032309885078162938017223801759639105749597141962140445499635079558656206630631032597599881803347857953979332080489301862999828158294752095730732362178277757584663866320207305474382607724976504884266512029974638741017329249258615380130296968272384087813983526369346412722568307096629640589386391997977958507701946633759810013799370080526814241463096]\n",
      "\n",
      "Odszyfrowane dane:\n",
      "AES (Advanced Encryption Standard) is a symmetric block cipher standardized by NIST . It has a fixed data block size of 16 bytes. Its keys can be 128, 192, or 256 bits long.\n",
      "\n",
      "AES is very fast and secure, and it is the de facto standard for symmetric encryption.\n",
      "\n",
      "As an example, encryption can be done as follows:\n",
      "\n"
     ]
    }
   ],
   "source": [
    "key = RSA.generate(2048)\n",
    "# pprint(dir(key))\n",
    "private_key = key.exportKey()\n",
    "file_out = open(\"private.pem\", \"wb\")\n",
    "file_out.write(private_key)\n",
    "\n",
    "public_key = key.publickey().exportKey()\n",
    "file_out = open(\"public.pem\", \"wb\")\n",
    "file_out.write(public_key)\n",
    "\n",
    "data = None\n",
    "file_to_encrypt = 'file.txt'\n",
    "with open(file_to_encrypt) as file:\n",
    "    data = file.read()\n",
    "    \n",
    "print('Dane do zaszyfrowania:')\n",
    "print(data)\n",
    "print()\n",
    "\n",
    "# pprint(list(text_to_numbers(data)))\n",
    "\n",
    "encrypted = [key.publickey().encrypt(block, None)[0] for block in text_to_numbers(data)]\n",
    "print('Fragment szyfrogramu:')\n",
    "pprint(encrypted[:2])\n",
    "print()\n",
    "\n",
    "recovered = numbers_to_text((key.decrypt(block) for block in encrypted))\n",
    "print('Odszyfrowane dane:')\n",
    "print(recovered)\n",
    "print()\n",
    "\n",
    "# tmp = key.publickey().encrypt(165169183132140165200218197210, 2)[0]\n",
    "# help(key.publickey().encrypt)\n",
    "\n",
    "# key.decrypt(tmp)"
   ]
  },
  {
   "cell_type": "code",
   "execution_count": 72,
   "metadata": {
    "ExecuteTime": {
     "end_time": "2019-11-05T20:38:09.603537Z",
     "start_time": "2019-11-05T20:38:09.600441Z"
    }
   },
   "outputs": [
    {
     "name": "stdout",
     "output_type": "stream",
     "text": [
      "Help on method encrypt in module Crypto.PublicKey.RSA:\n",
      "\n",
      "encrypt(plaintext, K) method of Crypto.PublicKey.RSA._RSAobj instance\n",
      "    Encrypt a piece of data with RSA.\n",
      "    \n",
      "    :Parameter plaintext: The piece of data to encrypt with RSA. It may not\n",
      "     be numerically larger than the RSA module (**n**).\n",
      "    :Type plaintext: byte string or long\n",
      "    \n",
      "    :Parameter K: A random parameter (*for compatibility only. This\n",
      "     value will be ignored*)\n",
      "    :Type K: byte string or long\n",
      "    \n",
      "    :attention: this function performs the plain, primitive RSA encryption\n",
      "     (*textbook*). In real applications, you always need to use proper\n",
      "     cryptographic padding, and you should not directly encrypt data with\n",
      "     this method. Failure to do so may lead to security vulnerabilities.\n",
      "     It is recommended to use modules\n",
      "     `Crypto.Cipher.PKCS1_OAEP` or `Crypto.Cipher.PKCS1_v1_5` instead.\n",
      "    \n",
      "    :Return: A tuple with two items. The first item is the ciphertext\n",
      "     of the same type as the plaintext (string or long). The second item\n",
      "     is always None.\n",
      "\n"
     ]
    }
   ],
   "source": [
    "help(key.publickey().encrypt)"
   ]
  }
 ],
 "metadata": {
  "kernelspec": {
   "display_name": "Python 3",
   "language": "python",
   "name": "python3"
  },
  "language_info": {
   "codemirror_mode": {
    "name": "ipython",
    "version": 3
   },
   "file_extension": ".py",
   "mimetype": "text/x-python",
   "name": "python",
   "nbconvert_exporter": "python",
   "pygments_lexer": "ipython3",
   "version": "3.7.3"
  },
  "varInspector": {
   "cols": {
    "lenName": 16,
    "lenType": 16,
    "lenVar": 40
   },
   "kernels_config": {
    "python": {
     "delete_cmd_postfix": "",
     "delete_cmd_prefix": "del ",
     "library": "var_list.py",
     "varRefreshCmd": "print(var_dic_list())"
    },
    "r": {
     "delete_cmd_postfix": ") ",
     "delete_cmd_prefix": "rm(",
     "library": "var_list.r",
     "varRefreshCmd": "cat(var_dic_list()) "
    }
   },
   "types_to_exclude": [
    "module",
    "function",
    "builtin_function_or_method",
    "instance",
    "_Feature"
   ],
   "window_display": false
  }
 },
 "nbformat": 4,
 "nbformat_minor": 2
}
